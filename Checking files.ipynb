{
 "cells": [
  {
   "cell_type": "code",
   "execution_count": 1,
   "metadata": {},
   "outputs": [],
   "source": [
    "import pandas as pd"
   ]
  },
  {
   "cell_type": "code",
   "execution_count": 2,
   "metadata": {},
   "outputs": [
    {
     "data": {
      "text/plain": [
       "'0.25.0'"
      ]
     },
     "execution_count": 2,
     "metadata": {},
     "output_type": "execute_result"
    }
   ],
   "source": [
    "pd.__version__"
   ]
  },
  {
   "cell_type": "code",
   "execution_count": 2,
   "metadata": {},
   "outputs": [
    {
     "name": "stdout",
     "output_type": "stream",
     "text": [
      "Differences in file: True\n",
      "Differences In:\n",
      "id    col        \n",
      "0     Alley          True\n",
      "      FireplaceQu    True\n",
      "      PoolQC         True\n",
      "      Fence          True\n",
      "      MiscFeature    True\n",
      "                     ... \n",
      "1459  Alley          True\n",
      "      FireplaceQu    True\n",
      "      PoolQC         True\n",
      "      Fence          True\n",
      "      MiscFeature    True\n",
      "Length: 6966, dtype: bool\n"
     ]
    }
   ],
   "source": [
    "import sys, sqlite3, pandas as pd\n",
    "files = ['C:/Users/lianj/Desktop/Kaggle competition/Housing price/train.csv', \n",
    "         'C:/Users/lianj/Desktop/Kaggle competition/Housing price/train_modify.csv'] #these are the arguments we take\n",
    "df1 = pd.read_csv(files[0])\n",
    "df2 = pd.read_csv(files[1])\n",
    "df3 = (df1 != df2).any(axis=None)\n",
    "print('Differences in file:', df3)\n",
    "df3 = (df1 != df2).any(1)\n",
    "ne_stacked = (df1 != df2).stack()\n",
    "changed = ne_stacked[ne_stacked]\n",
    "changed.index.names = ['id', 'col']\n",
    "print('Differences In:')\n",
    "print(changed)"
   ]
  },
  {
   "cell_type": "code",
   "execution_count": 3,
   "metadata": {},
   "outputs": [
    {
     "name": "stdout",
     "output_type": "stream",
     "text": [
      "Id                True\n",
      "MSSubClass       False\n",
      "MSZoning          True\n",
      "LotFrontage      False\n",
      "LotArea           True\n",
      "                 ...  \n",
      "MoSold            True\n",
      "YrSold            True\n",
      "SaleType          True\n",
      "SaleCondition     True\n",
      "SalePrice         True\n",
      "Length: 81, dtype: bool\n",
      "      Columns\n",
      "0       False\n",
      "1       False\n",
      "2       False\n",
      "3       False\n",
      "4       False\n",
      "...       ...\n",
      "1455    False\n",
      "1456    False\n",
      "1457    False\n",
      "1458    False\n",
      "1459    False\n",
      "\n",
      "[1460 rows x 1 columns]\n"
     ]
    }
   ],
   "source": [
    "df3 = df1.eq(df2)\n",
    "print(df3.all())\n",
    "#print(df3.all(axis=1))\n",
    "df4 = df3.all(axis=1)\n",
    "df4 = pd.DataFrame(df4, columns=['Columns'])\n",
    "print(df4[df4['Columns']==False])"
   ]
  },
  {
   "cell_type": "code",
   "execution_count": 4,
   "metadata": {},
   "outputs": [
    {
     "name": "stdout",
     "output_type": "stream",
     "text": [
      "Comparing C:/Users/lianj/Desktop/Kaggle competition/Housing price/train.csv to C:/Users/lianj/Desktop/Kaggle competition/Housing price/train_modify.csv\n",
      "(28, 29, 20, 'RL', 47.0, 16321, 'Pave', None, 'IR1', 'Lvl', 'AllPub', 'CulDSac', 'Gtl', 'NAmes', 'Norm', 'Norm', '1Fam', '1Story', 5, 6, 1957, 1997, 'Gable', 'CompShg', 'MetalSd', 'MetalSd', 'None', 0.0, 'TA', 'TA', 'CBlock', 'TA', 'TA', 'Gd', 'BLQ', 1277, 'Unf', 0, 207, 1484, 'GasA', 'TA', 'Y', 'SBrkr', 1600, 0, 0, 1600, 1, 0, 1, 0, 2, 1, 'TA', 6, 'Typ', 2, 'Gd', 'Attchd', 1957.0, 'RFn', 1, 319, 'TA', 'TA', 'Y', 288, 258, 0, 0, 0, 0, None, None, None, 0, 12, 2006, 'WD', 'Normal', 207500)\n",
      "Comparing C:/Users/lianj/Desktop/Kaggle competition/Housing price/train_modify.csv to C:/Users/lianj/Desktop/Kaggle competition/Housing price/train.csv\n",
      "(28, 29, 22, 'RL', 47.0, 16321, 'Pave', None, 'IR1', 'Lvl', 'AllPub', 'CulDSac', 'Gtl', 'NAmes', 'Norm', 'Norm', '1Fam', '1Story', 5, 6, 1957, 1997, 'Gable', 'CompShg', 'MetalSd', 'MetalSd', 'None', 0.0, 'TA', 'TA', 'CBlock', 'TA', 'TA', 'Gd', 'BLQ', 1277, 'Unf', 0, 207, 1484, 'GasA', 'TA', 'Y', 'SBrkr', 1600, 0, 0, 1600, 1, 0, 1, 0, 2, 1, 'TA', 6, 'Typ', 2, 'Gd', 'Attchd', 1957.0, 'RFn', 1, 319, 'TA', 'TA', 'Y', 288, 258, 0, 0, 0, 0, None, None, None, 0, 12, 2006, 'WD', 'Normal', 207500)\n"
     ]
    }
   ],
   "source": [
    "#This is the correct mismtaching column\n",
    "\n",
    "\n",
    "conn = sqlite3.connect(':memory:') #we are spinning an SQL db in memory\n",
    "cur = conn.cursor()\n",
    "chunksize = 10000\n",
    "i=0\n",
    "for file in files:\n",
    "    i = i+1\n",
    "    for chunk in pd.read_csv(file, chunksize=chunksize): #load the file in chunks in case its too big\n",
    "        chunk.columns = chunk.columns.str.replace(' ', '_') #replacing spaces with underscores for column names\n",
    "        chunk.to_sql(name='file' + str(i), con=conn, if_exists='append')\n",
    "print('Comparing', files[0], 'to', files[1]) #Compare if all data from File[0] are present in File[1]\n",
    "cur.execute( '''SELECT * FROM File1\n",
    "                EXCEPT\n",
    "                SELECT * FROM File2''')\n",
    "i=0\n",
    "for row in cur:\n",
    "    print(row)\n",
    "    i=i+1\n",
    "if i==0: print('No Differences')\n",
    "print('Comparing', files[1], 'to', files[0]) #Compare if all data from File[1] are present in File[0]\n",
    "cur.execute( '''SELECT * FROM File2\n",
    "                EXCEPT\n",
    "                SELECT * FROM File1''')\n",
    "i=0\n",
    "for row in cur:\n",
    "    print(row)\n",
    "    i=i+1\n",
    "if i==0: print('No Differences')\n",
    "cur.close()"
   ]
  },
  {
   "cell_type": "code",
   "execution_count": null,
   "metadata": {},
   "outputs": [],
   "source": []
  }
 ],
 "metadata": {
  "kernelspec": {
   "display_name": "Python 3",
   "language": "python",
   "name": "python3"
  },
  "language_info": {
   "codemirror_mode": {
    "name": "ipython",
    "version": 3
   },
   "file_extension": ".py",
   "mimetype": "text/x-python",
   "name": "python",
   "nbconvert_exporter": "python",
   "pygments_lexer": "ipython3",
   "version": "3.7.3"
  }
 },
 "nbformat": 4,
 "nbformat_minor": 2
}
